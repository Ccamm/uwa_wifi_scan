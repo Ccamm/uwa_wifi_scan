{
 "cells": [
  {
   "cell_type": "code",
   "execution_count": 43,
   "metadata": {},
   "outputs": [],
   "source": [
    "import pandas as pd\n",
    "import matplotlib.pyplot as plt\n",
    "from ipyleaflet import (Map, Marker, basemaps, basemap_to_tiles,\n",
    "                        FullScreenControl, LayersControl, LayerGroup,\n",
    "                        WidgetControl\n",
    "                       )"
   ]
  },
  {
   "cell_type": "code",
   "execution_count": 6,
   "metadata": {},
   "outputs": [],
   "source": [
    "GPS_FOLDER = './data/gps/'\n",
    "MEASUREMENt_FOLDER = './data/wifi/'"
   ]
  },
  {
   "cell_type": "code",
   "execution_count": 39,
   "metadata": {},
   "outputs": [],
   "source": [
    "gps_dataframe = pd.read_csv(GPS_FOLDER + 'whitefeld_gps.csv')\n",
    "gps_data = [(gps_dataframe['lat'][i], gps_dataframe['lon'][i]) for i in range(gps_dataframe.shape[0]) ]"
   ]
  },
  {
   "cell_type": "code",
   "execution_count": 70,
   "metadata": {},
   "outputs": [
    {
     "data": {
      "application/vnd.jupyter.widget-view+json": {
       "model_id": "f8edc23ecbdb470ab8c1daaf12a16b68",
       "version_major": 2,
       "version_minor": 0
      },
      "text/plain": [
       "Map(center=[-31.97645513, 115.81831377], controls=(ZoomControl(options=['position', 'zoom_in_text', 'zoom_in_t…"
      ]
     },
     "metadata": {},
     "output_type": "display_data"
    }
   ],
   "source": [
    "scan_map = Map(\n",
    "    basemap=basemaps.Esri.WorldImagery,\n",
    "    center=(-31.97645513, 115.81831377),\n",
    "    zoom=100\n",
    ")\n",
    "\n",
    "recorded_locations = []\n",
    "\n",
    "marker = Marker(location=gps_data[0])\n",
    "\n",
    "scan_map.add_layer(marker)\n",
    "    \n",
    "scan_map.add_control(FullScreenControl())\n",
    "\n",
    "scan_map"
   ]
  },
  {
   "cell_type": "code",
   "execution_count": 95,
   "metadata": {},
   "outputs": [
    {
     "data": {
      "text/plain": [
       "[-31.980241664322044, 115.81775844097137]"
      ]
     },
     "execution_count": 95,
     "metadata": {},
     "output_type": "execute_result"
    }
   ],
   "source": [
    "marker.location"
   ]
  },
  {
   "cell_type": "code",
   "execution_count": 94,
   "metadata": {},
   "outputs": [],
   "source": [
    "save = '\\n'.join([','.join([str(recorded_locations[i][j]) \n",
    "                     for j in range(2)]) for i in range(len(recorded_locations))])"
   ]
  },
  {
   "cell_type": "code",
   "execution_count": 92,
   "metadata": {},
   "outputs": [],
   "source": [
    "LOCATION = 'test'\n",
    "with open(GPS_FOLDER + LOCATION + '.csv', 'w') as f:\n",
    "    f.write(save)"
   ]
  },
  {
   "cell_type": "code",
   "execution_count": null,
   "metadata": {},
   "outputs": [],
   "source": []
  }
 ],
 "metadata": {
  "kernelspec": {
   "display_name": "Python 3",
   "language": "python",
   "name": "python3"
  },
  "language_info": {
   "codemirror_mode": {
    "name": "ipython",
    "version": 3
   },
   "file_extension": ".py",
   "mimetype": "text/x-python",
   "name": "python",
   "nbconvert_exporter": "python",
   "pygments_lexer": "ipython3",
   "version": "3.8.5"
  }
 },
 "nbformat": 4,
 "nbformat_minor": 2
}
